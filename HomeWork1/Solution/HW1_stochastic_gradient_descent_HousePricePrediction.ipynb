{
 "cells": [
  {
   "cell_type": "code",
   "execution_count": 6,
   "metadata": {
    "pycharm": {
     "is_executing": false
    }
   },
   "outputs": [],
   "source": [
    "import numpy as np\n",
    "import pandas as pd\n",
    "import matplotlib.pyplot as plt\n",
    "from sklearn.metrics import r2_score as r2\n",
    "%matplotlib inline"
   ]
  },
  {
   "cell_type": "code",
   "execution_count": 7,
   "metadata": {
    "pycharm": {
     "is_executing": false
    }
   },
   "outputs": [],
   "source": [
    "data = pd.read_csv('./house_prices.csv')"
   ]
  },
  {
   "cell_type": "code",
   "execution_count": 8,
   "metadata": {
    "pycharm": {
     "is_executing": false
    }
   },
   "outputs": [],
   "source": [
    "# construct input and target values\n",
    "data_arr = np.array(data); n = len(data_arr)\n",
    "age = data_arr[:,1].reshape(n,1)\n",
    "price = data_arr[:,4].reshape(n,1)"
   ]
  },
  {
   "cell_type": "code",
   "execution_count": 9,
   "metadata": {
    "pycharm": {
     "is_executing": false
    }
   },
   "outputs": [],
   "source": [
    "# normalization of feature and target\n",
    "x = np.c_[np.ones((n,1)),(age-np.min(age))/(np.max(age)-np.min(age))]\n",
    "y = price"
   ]
  },
  {
   "cell_type": "code",
   "execution_count": 10,
   "metadata": {
    "pycharm": {
     "is_executing": false
    }
   },
   "outputs": [],
   "source": [
    "# split training and test set\n",
    "m=300\n",
    "\n",
    "x_train=x[:m]\n",
    "y_train=y[:m]\n",
    "\n",
    "x_test =x[m:]\n",
    "y_test =y[m:]"
   ]
  },
  {
   "cell_type": "code",
   "execution_count": 11,
   "metadata": {
    "pycharm": {
     "is_executing": false
    }
   },
   "outputs": [
    {
     "name": "stdout",
     "output_type": "stream",
     "text": [
      "initial value of parameters: [[-1. ]\n",
      " [-0.5]]\n"
     ]
    }
   ],
   "source": [
    "# Gradient descent\n",
    "# assing initial parameters \n",
    "w_gd=np.array([-1,-0.5]).reshape(2,1); lr = 0.01;  max_iteration = 50\n",
    "print ('initial value of parameters:', w_gd)"
   ]
  },
  {
   "cell_type": "code",
   "execution_count": 12,
   "metadata": {
    "pycharm": {
     "is_executing": false
    }
   },
   "outputs": [
    {
     "name": "stdout",
     "output_type": "stream",
     "text": [
      "weight vectors: [[ 42.54078538]\n",
      " [-10.31939902]]\n"
     ]
    }
   ],
   "source": [
    "#estimate parameters theta for the house price problem.\n",
    "cos_func_val=np.zeros((max_iteration,1))\n",
    "\n",
    "for i in range(max_iteration):\n",
    "    for j in range(x_train.shape[0]):\n",
    "        thetaxj = x_train[j].dot(w_gd)\n",
    "        #gradient of cost function\n",
    "        x = np.array([[0.0],[0.0]])\n",
    "        x[0,0] = x_train[j,0]\n",
    "        x[1,0] = x_train[j,1]\n",
    "        grad = x*(thetaxj-y_train[j])\n",
    "        #update weight vectors\n",
    "        w_gd = w_gd - lr*grad\n",
    "    \n",
    "    #calculate cost function during iteration for plotting\n",
    "    thetax = x_train.dot(w_gd)\n",
    "    cos_func_val[i] = (1/m)*(thetax-y_train).T.dot(thetax-y_train)\n",
    "    \n",
    "print('weight vectors:',w_gd)"
   ]
  },
  {
   "cell_type": "code",
   "execution_count": 13,
   "metadata": {
    "pycharm": {
     "is_executing": false
    }
   },
   "outputs": [
    {
     "data": {
      "image/png": "[encoded data removed]",
      "text/plain": [
       "<Figure size 432x288 with 1 Axes>"
      ]
     },
     "metadata": {
      "needs_background": "light"
     },
     "output_type": "display_data"
    }
   ],
   "source": [
    "#Visualization\n",
    "plt.plot(cos_func_val[0:i])\n",
    "plt.xlabel('iteration number');plt.ylabel('cost function value')\n",
    "plt.show()"
   ]
  },
  {
   "cell_type": "code",
   "execution_count": 14,
   "metadata": {
    "pycharm": {
     "is_executing": false
    }
   },
   "outputs": [],
   "source": [
    "#price prediction \n",
    "pred_train = x_train.dot(w_gd)\n",
    "pred_test = x_test.dot(w_gd)"
   ]
  },
  {
   "cell_type": "code",
   "execution_count": 15,
   "metadata": {
    "pycharm": {
     "is_executing": false
    }
   },
   "outputs": [
    {
     "name": "stdout",
     "output_type": "stream",
     "text": [
      "rms error for the training set is: 12.04551030591235\n",
      "rms error for the test set is: 16.58731450340051\n"
     ]
    }
   ],
   "source": [
    "#------Evaluation --------------\n",
    "def rmse(predictions, targets):\n",
    "     return np.sqrt(((predictions - targets) ** 2).mean())\n",
    "\n",
    "rmse_val_train = rmse(pred_train, y_train)\n",
    "print(\"rms error for the training set is: \" + str(rmse_val_train))\n",
    "\n",
    "\n",
    "rmse_val_test = rmse(pred_test, y_test)\n",
    "print(\"rms error for the test set is: \" + str(rmse_val_test))\n",
    "\n"
   ]
  },
  {
   "cell_type": "markdown",
   "metadata": {},
   "source": [
    "Repeating for the other two features"
   ]
  },
  {
   "cell_type": "code",
   "execution_count": 16,
   "metadata": {
    "pycharm": {
     "is_executing": false
    }
   },
   "outputs": [],
   "source": [
    "# define batch_gradient_descent function based on Input and target values\n",
    "def batch_gradient_descent(X,Y):\n",
    "    # construct input and target values\n",
    "    n = len(X)\n",
    "    X_arr=np.array(X).reshape(n,1)\n",
    "    y_arr=np.array(Y).reshape(n,1)\n",
    "    # normalization of feature and target\n",
    "    x = np.c_[np.ones((n,1)),(X_arr-np.min(X_arr))/(np.max(X_arr)-np.min(X_arr))]\n",
    "    y = y_arr\n",
    "    #split train test\n",
    "    m=300\n",
    "    x_train=x[:m]\n",
    "    y_train=y[:m]\n",
    "    x_test =x[m:]\n",
    "    y_test =y[m:]\n",
    "    # assing initial parameters \n",
    "    w_gd=np.array([-1,-0.5]).reshape(2,1); lr = 0.01; max_iteration = 50\n",
    "    print ('initial value of parameters:', w_gd)\n",
    "    cos_func_val=np.zeros((max_iteration,1))\n",
    "    \n",
    "    for i in range(max_iteration):\n",
    "        for j in range(x_train.shape[0]):\n",
    "            thetaxj = x_train[j].dot(w_gd)\n",
    "            #gradient of cost function\n",
    "            x = np.array([[0.0],[0.0]])\n",
    "            x[0,0] = x_train[j,0]\n",
    "            x[1,0] = x_train[j,1]\n",
    "            grad = x*(thetaxj-y_train[j])\n",
    "            #update weight vectors\n",
    "            w_gd = w_gd - lr*grad\n",
    "        #calculate cost function during iteration for plotting\n",
    "        thetax = x_train.dot(w_gd)\n",
    "        cos_func_val[i] = (1/m)*(thetax-y_train).T.dot(thetax-y_train)\n",
    "    \n",
    "    print('weight vectors:',w_gd)\n",
    "    \n",
    "    plt.plot(cos_func_val[0:i])\n",
    "    plt.xlabel('iteration number');plt.ylabel('cost function value')\n",
    "    plt.show()\n",
    "    \n",
    "    pred_train = x_train.dot(w_gd)\n",
    "    pred_test= x_test.dot(w_gd)\n",
    "    #------Evaluation --------------\n",
    "    def rmse(predictions, targets):\n",
    "        return np.sqrt(((predictions - targets) ** 2).mean())\n",
    "    \n",
    "    rmse_val_train = rmse(pred_train, y_train)\n",
    "    print(\"rms error for the training set is: \" + str(rmse_val_train))\n",
    "    \n",
    "\n",
    "    rmse_val_test = rmse(pred_test, y_test)\n",
    "    print(\"rms error for the test set is: \" + str(rmse_val_test))\n",
    "    \n",
    "    return"
   ]
  },
  {
   "cell_type": "code",
   "execution_count": 17,
   "metadata": {
    "pycharm": {
     "is_executing": false
    }
   },
   "outputs": [],
   "source": [
    "data = pd.read_csv('./house_prices.csv')"
   ]
  },
  {
   "cell_type": "code",
   "execution_count": 18,
   "metadata": {
    "pycharm": {
     "is_executing": false
    },
    "scrolled": true
   },
   "outputs": [
    {
     "name": "stdout",
     "output_type": "stream",
     "text": [
      "initial value of parameters: [[-1. ]\n",
      " [-0.5]]\n",
      "weight vectors: [[ 42.54078538]\n",
      " [-10.31939902]]\n",
      "rms error for the training set is: 12.04551030591235\n",
      "rms error for the test set is: 16.58731450340051\n"
     ]
    },
    {
     "data": {
      "image/png": "[encoded data removed]",
      "text/plain": [
       "<Figure size 432x288 with 1 Axes>"
      ]
     },
     "metadata": {
      "needs_background": "light"
     },
     "output_type": "display_data"
    }
   ],
   "source": [
    "batch_gradient_descent(data['house age'],data['house price of unit area'])"
   ]
  },
  {
   "cell_type": "code",
   "execution_count": 19,
   "metadata": {
    "pycharm": {
     "is_executing": false
    }
   },
   "outputs": [
    {
     "name": "stdout",
     "output_type": "stream",
     "text": [
      "initial value of parameters: [[-1. ]\n",
      " [-0.5]]\n",
      "weight vectors: [[ 44.76608704]\n",
      " [-46.50063397]]\n",
      "rms error for the training set is: 9.165754538401488\n",
      "rms error for the test set is: 12.652088009723935\n"
     ]
    },
    {
     "data": {
      "image/png": "[encoded data removed]",
      "text/plain": [
       "<Figure size 432x288 with 1 Axes>"
      ]
     },
     "metadata": {
      "needs_background": "light"
     },
     "output_type": "display_data"
    }
   ],
   "source": [
    "batch_gradient_descent(data['distance to the nearest MRT station'],data['house price of unit area'])"
   ]
  },
  {
   "cell_type": "code",
   "execution_count": 20,
   "metadata": {
    "pycharm": {
     "is_executing": false
    },
    "scrolled": true
   },
   "outputs": [
    {
     "name": "stdout",
     "output_type": "stream",
     "text": [
      "initial value of parameters: [[-1. ]\n",
      " [-0.5]]\n",
      "weight vectors: [[27.48667613]\n",
      " [25.64211765]]\n",
      "rms error for the training set is: 9.83487827563954\n",
      "rms error for the test set is: 14.731993508206783\n"
     ]
    },
    {
     "data": {
      "image/png": "[encoded data removed]",
      "text/plain": [
       "<Figure size 432x288 with 1 Axes>"
      ]
     },
     "metadata": {
      "needs_background": "light"
     },
     "output_type": "display_data"
    }
   ],
   "source": [
    "batch_gradient_descent(data['number of convenience stores'],data['house price of unit area'])"
   ]
  },
  {
   "cell_type": "markdown",
   "metadata": {},
   "source": [
    "Comparing three models, house price prediction based on distance to the station gives the best prediction on test set."
   ]
  }
 ],
 "metadata": {
  "kernelspec": {
   "display_name": "Python 3",
   "language": "python",
   "name": "python3"
  },
  "language_info": {
   "codemirror_mode": {
    "name": "ipython",
    "version": 3
   },
   "file_extension": ".py",
   "mimetype": "text/x-python",
   "name": "python",
   "nbconvert_exporter": "python",
   "pygments_lexer": "ipython3",
   "version": "3.7.4"
  }
 },
 "nbformat": 4,
 "nbformat_minor": 2
}
